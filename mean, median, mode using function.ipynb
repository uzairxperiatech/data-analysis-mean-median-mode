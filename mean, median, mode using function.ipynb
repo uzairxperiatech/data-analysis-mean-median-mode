{
 "cells": [
  {
   "cell_type": "code",
   "execution_count": 2,
   "id": "6371bbaa-f5e0-4964-b1b3-f3b40ae246d6",
   "metadata": {},
   "outputs": [],
   "source": [
    " # Write functions to calculate the mean, median, and mode of a list of numbers."
   ]
  },
  {
   "cell_type": "code",
   "execution_count": 17,
   "id": "de9cd2c0-476f-4319-a3e6-555466235d85",
   "metadata": {},
   "outputs": [
    {
     "name": "stdout",
     "output_type": "stream",
     "text": [
      "487.2857142857143\n",
      "23\n",
      "[5]\n"
     ]
    }
   ],
   "source": [
    "from collections import Counter\n",
    "\n",
    "# Find the mean value of the list\n",
    "\n",
    "def calculate_mean(data):\n",
    "    return sum(data) / len(data)\n",
    "\n",
    "\n",
    "def calculate_mode (data):\n",
    "    sorted_number = sorted(data)\n",
    "    n = len(sorted_number)\n",
    "    middle = n//2\n",
    "    if n % 2 ==0:\n",
    "        return (sorted_number[middle - 1] + sorted_number[middle]) / 2\n",
    "    else:\n",
    "        return sorted_number[middle]\n",
    "\n",
    "\n",
    "def calculate_median (data):\n",
    "    counter = Counter(data)\n",
    "    max_count = max(counter.values())\n",
    "    counter = Counter(data)\n",
    "    mode = [num for num, count in counter.items() if count == max_count]\n",
    "    return mode\n",
    "\n",
    "\n",
    "    \n",
    "        \n",
    "\n",
    "\n",
    "\n",
    "\n",
    "\n",
    "\n",
    "data = [1,2,4,5,6,3,7,47,43,7734,243,23,25,899,657,456,43,5,23,2,5]\n",
    "mean_is = calculate_mean(data)\n",
    "print(mean_is)\n",
    "\n",
    "mode_is = calculate_mode(data)\n",
    "print(mode_is)\n",
    "\n",
    "median_is = calculate_median(data)\n",
    "print(median_is)"
   ]
  },
  {
   "cell_type": "code",
   "execution_count": null,
   "id": "20008493-3c98-4d54-816b-c1834c792630",
   "metadata": {},
   "outputs": [],
   "source": []
  }
 ],
 "metadata": {
  "kernelspec": {
   "display_name": "Python 3 (ipykernel)",
   "language": "python",
   "name": "python3"
  },
  "language_info": {
   "codemirror_mode": {
    "name": "ipython",
    "version": 3
   },
   "file_extension": ".py",
   "mimetype": "text/x-python",
   "name": "python",
   "nbconvert_exporter": "python",
   "pygments_lexer": "ipython3",
   "version": "3.11.7"
  }
 },
 "nbformat": 4,
 "nbformat_minor": 5
}
